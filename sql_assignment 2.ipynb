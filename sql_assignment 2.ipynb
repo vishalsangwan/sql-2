{
 "cells": [
  {
   "cell_type": "code",
   "execution_count": 1,
   "metadata": {},
   "outputs": [],
   "source": [
    "from sqlalchemy import create_engine\n",
    "from sqlalchemy.ext.declarative import declarative_base\n",
    "from sqlalchemy.orm import sessionmaker\n",
    "import pandas as pd"
   ]
  },
  {
   "cell_type": "code",
   "execution_count": 2,
   "metadata": {},
   "outputs": [],
   "source": [
    "#creating a engine that will form a connection between database and python\n",
    "#here we are creating a engine to connect sqlite database, we can use other databases such as sql etc\n",
    "\n",
    "engine = create_engine(\"sqlite:///adult_data.db\")"
   ]
  },
  {
   "cell_type": "code",
   "execution_count": 3,
   "metadata": {},
   "outputs": [
    {
     "data": {
      "text/plain": [
       "[]"
      ]
     },
     "execution_count": 3,
     "metadata": {},
     "output_type": "execute_result"
    }
   ],
   "source": [
    "#no table has been created yet\n",
    "engine.table_names()"
   ]
  },
  {
   "cell_type": "code",
   "execution_count": 4,
   "metadata": {},
   "outputs": [],
   "source": [
    "Base = declarative_base()"
   ]
  },
  {
   "cell_type": "code",
   "execution_count": 5,
   "metadata": {},
   "outputs": [],
   "source": [
    "from sqlalchemy import Column, Integer, String"
   ]
  },
  {
   "cell_type": "code",
   "execution_count": 6,
   "metadata": {},
   "outputs": [],
   "source": [
    "class User(Base):\n",
    "    __tablename__ = 'users'\n",
    "\n",
    "    index = Column(Integer, primary_key=True)\n",
    "    age = Column(String)\n",
    "    workclass = Column(String)\n",
    "    fnlwgt= Column(String)\n",
    "    education =Column(String)\n",
    "    education_num=Column(Integer)\n",
    "    marital_status=Column(String)\n",
    "    occupation=Column(String)\n",
    "    relationship=Column(String)\n",
    "    race=Column(String)\n",
    "    sex=Column(String)\n",
    "    capital_gain=Column(Integer)\n",
    "    capital_loss=Column(Integer)\n",
    "    hours_per_week=Column(Integer)\n",
    "    native_country=Column(String)\n",
    "    label = Column(String)"
   ]
  },
  {
   "cell_type": "code",
   "execution_count": 7,
   "metadata": {},
   "outputs": [
    {
     "data": {
      "text/plain": [
       "[]"
      ]
     },
     "execution_count": 7,
     "metadata": {},
     "output_type": "execute_result"
    }
   ],
   "source": [
    "#still not tables in database\n",
    "engine.table_names()"
   ]
  },
  {
   "cell_type": "code",
   "execution_count": 8,
   "metadata": {},
   "outputs": [],
   "source": [
    "#creating tables with columns\n",
    "#send the table data you have created to the MySQL database:\n",
    "Base.metadata.create_all(engine)"
   ]
  },
  {
   "cell_type": "code",
   "execution_count": 9,
   "metadata": {},
   "outputs": [
    {
     "data": {
      "text/plain": [
       "['users']"
      ]
     },
     "execution_count": 9,
     "metadata": {},
     "output_type": "execute_result"
    }
   ],
   "source": [
    "engine.table_names()"
   ]
  },
  {
   "cell_type": "code",
   "execution_count": 10,
   "metadata": {},
   "outputs": [],
   "source": [
    "#importing metaData and tables. it kind of create a instance of the table\n",
    "from sqlalchemy import Table\n",
    "from sqlalchemy import MetaData"
   ]
  },
  {
   "cell_type": "code",
   "execution_count": 11,
   "metadata": {},
   "outputs": [
    {
     "data": {
      "text/plain": [
       "['users']"
      ]
     },
     "execution_count": 11,
     "metadata": {},
     "output_type": "execute_result"
    }
   ],
   "source": [
    "engine.table_names()"
   ]
  },
  {
   "cell_type": "code",
   "execution_count": 12,
   "metadata": {},
   "outputs": [
    {
     "data": {
      "text/plain": [
       "['users']"
      ]
     },
     "execution_count": 12,
     "metadata": {},
     "output_type": "execute_result"
    }
   ],
   "source": [
    "# i dnt know y i cannot create the table like this table.create(engine)\n",
    "engine.table_names()"
   ]
  },
  {
   "cell_type": "code",
   "execution_count": 13,
   "metadata": {},
   "outputs": [],
   "source": [
    "#reading data from url\n",
    "url = \"https://archive.ics.uci.edu/ml/machine-learning-databases/adult/adult.data\"\n",
    "df = pd.read_csv(url)"
   ]
  },
  {
   "cell_type": "code",
   "execution_count": null,
   "metadata": {},
   "outputs": [],
   "source": []
  },
  {
   "cell_type": "code",
   "execution_count": 14,
   "metadata": {},
   "outputs": [],
   "source": [
    "df.index.name = \"index\""
   ]
  },
  {
   "cell_type": "code",
   "execution_count": 15,
   "metadata": {},
   "outputs": [],
   "source": [
    "df.columns= [\"age\",\"workclass\",\"fnlwgt\",\"education\",\"education_num\",\"marital_status\",\"occupation\",\"relationship\",\"race\",\"sex\",\"capital_gain\",\"capital_loss\",\"hours_per_week\",\"native_country\",\"label\"]"
   ]
  },
  {
   "cell_type": "code",
   "execution_count": 16,
   "metadata": {},
   "outputs": [
    {
     "data": {
      "text/html": [
       "<div>\n",
       "<style scoped>\n",
       "    .dataframe tbody tr th:only-of-type {\n",
       "        vertical-align: middle;\n",
       "    }\n",
       "\n",
       "    .dataframe tbody tr th {\n",
       "        vertical-align: top;\n",
       "    }\n",
       "\n",
       "    .dataframe thead th {\n",
       "        text-align: right;\n",
       "    }\n",
       "</style>\n",
       "<table border=\"1\" class=\"dataframe\">\n",
       "  <thead>\n",
       "    <tr style=\"text-align: right;\">\n",
       "      <th></th>\n",
       "      <th>age</th>\n",
       "      <th>workclass</th>\n",
       "      <th>fnlwgt</th>\n",
       "      <th>education</th>\n",
       "      <th>education_num</th>\n",
       "      <th>marital_status</th>\n",
       "      <th>occupation</th>\n",
       "      <th>relationship</th>\n",
       "      <th>race</th>\n",
       "      <th>sex</th>\n",
       "      <th>capital_gain</th>\n",
       "      <th>capital_loss</th>\n",
       "      <th>hours_per_week</th>\n",
       "      <th>native_country</th>\n",
       "      <th>label</th>\n",
       "    </tr>\n",
       "    <tr>\n",
       "      <th>index</th>\n",
       "      <th></th>\n",
       "      <th></th>\n",
       "      <th></th>\n",
       "      <th></th>\n",
       "      <th></th>\n",
       "      <th></th>\n",
       "      <th></th>\n",
       "      <th></th>\n",
       "      <th></th>\n",
       "      <th></th>\n",
       "      <th></th>\n",
       "      <th></th>\n",
       "      <th></th>\n",
       "      <th></th>\n",
       "      <th></th>\n",
       "    </tr>\n",
       "  </thead>\n",
       "  <tbody>\n",
       "    <tr>\n",
       "      <th>0</th>\n",
       "      <td>50</td>\n",
       "      <td>Self-emp-not-inc</td>\n",
       "      <td>83311</td>\n",
       "      <td>Bachelors</td>\n",
       "      <td>13</td>\n",
       "      <td>Married-civ-spouse</td>\n",
       "      <td>Exec-managerial</td>\n",
       "      <td>Husband</td>\n",
       "      <td>White</td>\n",
       "      <td>Male</td>\n",
       "      <td>0</td>\n",
       "      <td>0</td>\n",
       "      <td>13</td>\n",
       "      <td>United-States</td>\n",
       "      <td>&lt;=50K</td>\n",
       "    </tr>\n",
       "    <tr>\n",
       "      <th>1</th>\n",
       "      <td>38</td>\n",
       "      <td>Private</td>\n",
       "      <td>215646</td>\n",
       "      <td>HS-grad</td>\n",
       "      <td>9</td>\n",
       "      <td>Divorced</td>\n",
       "      <td>Handlers-cleaners</td>\n",
       "      <td>Not-in-family</td>\n",
       "      <td>White</td>\n",
       "      <td>Male</td>\n",
       "      <td>0</td>\n",
       "      <td>0</td>\n",
       "      <td>40</td>\n",
       "      <td>United-States</td>\n",
       "      <td>&lt;=50K</td>\n",
       "    </tr>\n",
       "    <tr>\n",
       "      <th>2</th>\n",
       "      <td>53</td>\n",
       "      <td>Private</td>\n",
       "      <td>234721</td>\n",
       "      <td>11th</td>\n",
       "      <td>7</td>\n",
       "      <td>Married-civ-spouse</td>\n",
       "      <td>Handlers-cleaners</td>\n",
       "      <td>Husband</td>\n",
       "      <td>Black</td>\n",
       "      <td>Male</td>\n",
       "      <td>0</td>\n",
       "      <td>0</td>\n",
       "      <td>40</td>\n",
       "      <td>United-States</td>\n",
       "      <td>&lt;=50K</td>\n",
       "    </tr>\n",
       "    <tr>\n",
       "      <th>3</th>\n",
       "      <td>28</td>\n",
       "      <td>Private</td>\n",
       "      <td>338409</td>\n",
       "      <td>Bachelors</td>\n",
       "      <td>13</td>\n",
       "      <td>Married-civ-spouse</td>\n",
       "      <td>Prof-specialty</td>\n",
       "      <td>Wife</td>\n",
       "      <td>Black</td>\n",
       "      <td>Female</td>\n",
       "      <td>0</td>\n",
       "      <td>0</td>\n",
       "      <td>40</td>\n",
       "      <td>Cuba</td>\n",
       "      <td>&lt;=50K</td>\n",
       "    </tr>\n",
       "    <tr>\n",
       "      <th>4</th>\n",
       "      <td>37</td>\n",
       "      <td>Private</td>\n",
       "      <td>284582</td>\n",
       "      <td>Masters</td>\n",
       "      <td>14</td>\n",
       "      <td>Married-civ-spouse</td>\n",
       "      <td>Exec-managerial</td>\n",
       "      <td>Wife</td>\n",
       "      <td>White</td>\n",
       "      <td>Female</td>\n",
       "      <td>0</td>\n",
       "      <td>0</td>\n",
       "      <td>40</td>\n",
       "      <td>United-States</td>\n",
       "      <td>&lt;=50K</td>\n",
       "    </tr>\n",
       "  </tbody>\n",
       "</table>\n",
       "</div>"
      ],
      "text/plain": [
       "       age          workclass  fnlwgt   education  education_num  \\\n",
       "index                                                              \n",
       "0       50   Self-emp-not-inc   83311   Bachelors             13   \n",
       "1       38            Private  215646     HS-grad              9   \n",
       "2       53            Private  234721        11th              7   \n",
       "3       28            Private  338409   Bachelors             13   \n",
       "4       37            Private  284582     Masters             14   \n",
       "\n",
       "            marital_status          occupation    relationship    race  \\\n",
       "index                                                                    \n",
       "0       Married-civ-spouse     Exec-managerial         Husband   White   \n",
       "1                 Divorced   Handlers-cleaners   Not-in-family   White   \n",
       "2       Married-civ-spouse   Handlers-cleaners         Husband   Black   \n",
       "3       Married-civ-spouse      Prof-specialty            Wife   Black   \n",
       "4       Married-civ-spouse     Exec-managerial            Wife   White   \n",
       "\n",
       "           sex  capital_gain  capital_loss  hours_per_week  native_country  \\\n",
       "index                                                                        \n",
       "0         Male             0             0              13   United-States   \n",
       "1         Male             0             0              40   United-States   \n",
       "2         Male             0             0              40   United-States   \n",
       "3       Female             0             0              40            Cuba   \n",
       "4       Female             0             0              40   United-States   \n",
       "\n",
       "        label  \n",
       "index          \n",
       "0       <=50K  \n",
       "1       <=50K  \n",
       "2       <=50K  \n",
       "3       <=50K  \n",
       "4       <=50K  "
      ]
     },
     "execution_count": 16,
     "metadata": {},
     "output_type": "execute_result"
    }
   ],
   "source": [
    "df.head()"
   ]
  },
  {
   "cell_type": "code",
   "execution_count": 17,
   "metadata": {},
   "outputs": [],
   "source": [
    "#copying data to sql database\n",
    "df.to_sql('users',engine,if_exists='append', index= False)\n"
   ]
  },
  {
   "cell_type": "code",
   "execution_count": 18,
   "metadata": {},
   "outputs": [],
   "source": [
    "#doing things sqlite way"
   ]
  },
  {
   "cell_type": "code",
   "execution_count": 19,
   "metadata": {},
   "outputs": [],
   "source": [
    "import sqlite3 "
   ]
  },
  {
   "cell_type": "code",
   "execution_count": 20,
   "metadata": {},
   "outputs": [],
   "source": [
    "conn = sqlite3.connect('adult_data.db')"
   ]
  },
  {
   "cell_type": "code",
   "execution_count": 21,
   "metadata": {},
   "outputs": [],
   "source": [
    "c = conn.cursor()"
   ]
  },
  {
   "cell_type": "code",
   "execution_count": 22,
   "metadata": {},
   "outputs": [
    {
     "data": {
      "text/plain": [
       "<sqlite3.Cursor at 0x184db7feab0>"
      ]
     },
     "execution_count": 22,
     "metadata": {},
     "output_type": "execute_result"
    }
   ],
   "source": [
    "c.execute(\"select * from users limit 5\")"
   ]
  },
  {
   "cell_type": "code",
   "execution_count": 23,
   "metadata": {},
   "outputs": [],
   "source": [
    "data = c.fetchall()"
   ]
  },
  {
   "cell_type": "code",
   "execution_count": 24,
   "metadata": {},
   "outputs": [
    {
     "name": "stdout",
     "output_type": "stream",
     "text": [
      "(1, '50', ' Self-emp-not-inc', '83311', ' Bachelors', 13, ' Married-civ-spouse', ' Exec-managerial', ' Husband', ' White', ' Male', 0, 0, 13, ' United-States', ' <=50K')\n",
      "(2, '38', ' Private', '215646', ' HS-grad', 9, ' Divorced', ' Handlers-cleaners', ' Not-in-family', ' White', ' Male', 0, 0, 40, ' United-States', ' <=50K')\n",
      "(3, '53', ' Private', '234721', ' 11th', 7, ' Married-civ-spouse', ' Handlers-cleaners', ' Husband', ' Black', ' Male', 0, 0, 40, ' United-States', ' <=50K')\n",
      "(4, '28', ' Private', '338409', ' Bachelors', 13, ' Married-civ-spouse', ' Prof-specialty', ' Wife', ' Black', ' Female', 0, 0, 40, ' Cuba', ' <=50K')\n",
      "(5, '37', ' Private', '284582', ' Masters', 14, ' Married-civ-spouse', ' Exec-managerial', ' Wife', ' White', ' Female', 0, 0, 40, ' United-States', ' <=50K')\n"
     ]
    }
   ],
   "source": [
    "for row in data:\n",
    "    print(row)"
   ]
  },
  {
   "cell_type": "markdown",
   "metadata": {},
   "source": [
    "## Write two basic update queries"
   ]
  },
  {
   "cell_type": "code",
   "execution_count": 25,
   "metadata": {},
   "outputs": [
    {
     "data": {
      "text/plain": [
       "<sqlite3.Cursor at 0x184db7feab0>"
      ]
     },
     "execution_count": 25,
     "metadata": {},
     "output_type": "execute_result"
    }
   ],
   "source": [
    "c.execute(\"UPDATE users SET marital_status = 'Married' WHERE marital_status = ' Married-civ-spouse'\")"
   ]
  },
  {
   "cell_type": "code",
   "execution_count": 26,
   "metadata": {},
   "outputs": [
    {
     "data": {
      "text/plain": [
       "<sqlite3.Cursor at 0x184db7feab0>"
      ]
     },
     "execution_count": 26,
     "metadata": {},
     "output_type": "execute_result"
    }
   ],
   "source": [
    "c.execute(\"select * from users limit 5\")"
   ]
  },
  {
   "cell_type": "code",
   "execution_count": 27,
   "metadata": {},
   "outputs": [
    {
     "name": "stdout",
     "output_type": "stream",
     "text": [
      "(1, '50', ' Self-emp-not-inc', '83311', ' Bachelors', 13, 'Married', ' Exec-managerial', ' Husband', ' White', ' Male', 0, 0, 13, ' United-States', ' <=50K')\n",
      "(2, '38', ' Private', '215646', ' HS-grad', 9, ' Divorced', ' Handlers-cleaners', ' Not-in-family', ' White', ' Male', 0, 0, 40, ' United-States', ' <=50K')\n",
      "(3, '53', ' Private', '234721', ' 11th', 7, 'Married', ' Handlers-cleaners', ' Husband', ' Black', ' Male', 0, 0, 40, ' United-States', ' <=50K')\n",
      "(4, '28', ' Private', '338409', ' Bachelors', 13, 'Married', ' Prof-specialty', ' Wife', ' Black', ' Female', 0, 0, 40, ' Cuba', ' <=50K')\n",
      "(5, '37', ' Private', '284582', ' Masters', 14, 'Married', ' Exec-managerial', ' Wife', ' White', ' Female', 0, 0, 40, ' United-States', ' <=50K')\n"
     ]
    }
   ],
   "source": [
    "data = c.fetchall()\n",
    "for row in data:\n",
    "    print(row)"
   ]
  },
  {
   "cell_type": "code",
   "execution_count": 28,
   "metadata": {},
   "outputs": [
    {
     "data": {
      "text/plain": [
       "<sqlite3.Cursor at 0x184db7feab0>"
      ]
     },
     "execution_count": 28,
     "metadata": {},
     "output_type": "execute_result"
    }
   ],
   "source": [
    "# c.execute(\"UPDATE users SET education = 'phd' WHERE index = 1\")\n",
    "c.execute(\"UPDATE users SET education = 'phd' WHERE age = 50\")"
   ]
  },
  {
   "cell_type": "code",
   "execution_count": 29,
   "metadata": {},
   "outputs": [
    {
     "name": "stdout",
     "output_type": "stream",
     "text": [
      "(1, '50', ' Self-emp-not-inc', '83311', 'phd', 13, 'Married', ' Exec-managerial', ' Husband', ' White', ' Male', 0, 0, 13, ' United-States', ' <=50K')\n",
      "(2, '38', ' Private', '215646', ' HS-grad', 9, ' Divorced', ' Handlers-cleaners', ' Not-in-family', ' White', ' Male', 0, 0, 40, ' United-States', ' <=50K')\n",
      "(3, '53', ' Private', '234721', ' 11th', 7, 'Married', ' Handlers-cleaners', ' Husband', ' Black', ' Male', 0, 0, 40, ' United-States', ' <=50K')\n",
      "(4, '28', ' Private', '338409', ' Bachelors', 13, 'Married', ' Prof-specialty', ' Wife', ' Black', ' Female', 0, 0, 40, ' Cuba', ' <=50K')\n",
      "(5, '37', ' Private', '284582', ' Masters', 14, 'Married', ' Exec-managerial', ' Wife', ' White', ' Female', 0, 0, 40, ' United-States', ' <=50K')\n"
     ]
    }
   ],
   "source": [
    "c.execute(\"select * from users limit 5\")\n",
    "data = c.fetchall()\n",
    "for row in data:\n",
    "    print(row)"
   ]
  },
  {
   "cell_type": "markdown",
   "metadata": {},
   "source": [
    "###  Write two delete queries"
   ]
  },
  {
   "cell_type": "code",
   "execution_count": 30,
   "metadata": {},
   "outputs": [
    {
     "name": "stdout",
     "output_type": "stream",
     "text": [
      "   index age workclass  fnlwgt education  education_num marital_status  \\\n",
      "0      2  38   Private  215646   HS-grad              9       Divorced   \n",
      "1      3  53   Private  234721      11th              7        Married   \n",
      "\n",
      "           occupation    relationship    race    sex  capital_gain  \\\n",
      "0   Handlers-cleaners   Not-in-family   White   Male             0   \n",
      "1   Handlers-cleaners         Husband   Black   Male             0   \n",
      "\n",
      "   capital_loss  hours_per_week  native_country   label  \n",
      "0             0              40   United-States   <=50K  \n",
      "1             0              40   United-States   <=50K  \n"
     ]
    }
   ],
   "source": [
    "c.execute('DELETE FROM users WHERE education = \"phd\"')\n",
    "print(pd.read_sql_query(\"SELECT * FROM users\", conn).head(2)) "
   ]
  },
  {
   "cell_type": "code",
   "execution_count": 31,
   "metadata": {},
   "outputs": [
    {
     "name": "stdout",
     "output_type": "stream",
     "text": [
      "   index age          workclass  fnlwgt   education  education_num  \\\n",
      "0      2  38            Private  215646     HS-grad              9   \n",
      "1      4  28            Private  338409   Bachelors             13   \n",
      "2      5  37            Private  284582     Masters             14   \n",
      "3      6  49            Private  160187         9th              5   \n",
      "4      7  52   Self-emp-not-inc  209642     HS-grad              9   \n",
      "\n",
      "           marital_status          occupation    relationship    race  \\\n",
      "0                Divorced   Handlers-cleaners   Not-in-family   White   \n",
      "1                 Married      Prof-specialty            Wife   Black   \n",
      "2                 Married     Exec-managerial            Wife   White   \n",
      "3   Married-spouse-absent       Other-service   Not-in-family   Black   \n",
      "4                 Married     Exec-managerial         Husband   White   \n",
      "\n",
      "       sex  capital_gain  capital_loss  hours_per_week  native_country   label  \n",
      "0     Male             0             0              40   United-States   <=50K  \n",
      "1   Female             0             0              40            Cuba   <=50K  \n",
      "2   Female             0             0              40   United-States   <=50K  \n",
      "3   Female             0             0              16         Jamaica   <=50K  \n",
      "4     Male             0             0              45   United-States    >50K  \n"
     ]
    }
   ],
   "source": [
    "c.execute('DELETE FROM users WHERE age = \"53\" AND fnlwgt = \"234721\"')\n",
    "print(pd.read_sql_query(\"SELECT * FROM users\", conn).head()) "
   ]
  },
  {
   "cell_type": "markdown",
   "metadata": {},
   "source": [
    "###  Write two filter queries"
   ]
  },
  {
   "cell_type": "code",
   "execution_count": 32,
   "metadata": {},
   "outputs": [
    {
     "name": "stdout",
     "output_type": "stream",
     "text": [
      "[(142, '19', ' Private', '316868', ' Some-college', 10, ' Never-married', ' Other-service', ' Own-child', ' White', ' Male', 0, 0, 30, ' Mexico', ' <=50K'), (335, '17', ' Private', '270942', ' 5th-6th', 3, ' Never-married', ' Other-service', ' Other-relative', ' White', ' Male', 0, 0, 48, ' Mexico', ' <=50K'), (2722, '19', ' Private', '275889', ' 11th', 7, ' Never-married', ' Handlers-cleaners', ' Own-child', ' White', ' Male', 0, 0, 40, ' Mexico', ' <=50K'), (3118, '19', ' Private', '130431', ' 5th-6th', 3, ' Never-married', ' Farming-fishing', ' Not-in-family', ' White', ' Male', 0, 0, 36, ' Mexico', ' <=50K'), (7754, '18', ' Private', '444822', ' 11th', 7, ' Never-married', ' Sales', ' Own-child', ' White', ' Female', 0, 0, 8, ' Mexico', ' <=50K'), (9960, '19', ' Private', '228238', ' HS-grad', 9, ' Never-married', ' Machine-op-inspct', ' Other-relative', ' White', ' Male', 0, 0, 40, ' Mexico', ' <=50K'), (13286, '18', ' Private', '333611', ' 5th-6th', 3, ' Never-married', ' Other-service', ' Other-relative', ' White', ' Male', 0, 0, 54, ' Mexico', ' <=50K'), (14157, '17', ' Private', '270942', ' HS-grad', 9, ' Never-married', ' Other-service', ' Other-relative', ' White', ' Male', 0, 0, 35, ' Mexico', ' <=50K'), (14520, '18', ' Private', '79443', ' 9th', 5, ' Never-married', ' Machine-op-inspct', ' Own-child', ' White', ' Male', 0, 0, 40, ' Mexico', ' <=50K'), (21786, '18', ' Private', '335065', ' 7th-8th', 4, ' Never-married', ' Sales', ' Own-child', ' White', ' Male', 0, 0, 30, ' Mexico', ' <=50K'), (22107, '17', ' Private', '438996', ' 10th', 6, ' Never-married', ' Other-service', ' Other-relative', ' White', ' Male', 0, 0, 40, ' Mexico', ' <=50K'), (23875, '19', ' Private', '316797', ' 7th-8th', 4, 'Married', ' Handlers-cleaners', ' Own-child', ' White', ' Male', 0, 0, 45, ' Mexico', ' <=50K'), (24352, '18', ' Private', '184693', ' Some-college', 10, ' Never-married', ' Other-service', ' Own-child', ' White', ' Female', 0, 0, 20, ' Mexico', ' <=50K'), (24951, '19', ' Private', '277695', ' 9th', 5, ' Never-married', ' Farming-fishing', ' Other-relative', ' White', ' Male', 0, 0, 16, ' Mexico', ' <=50K'), (27405, '18', ' Private', '426836', ' 5th-6th', 3, ' Never-married', ' Handlers-cleaners', ' Other-relative', ' White', ' Male', 0, 0, 40, ' Mexico', ' <=50K'), (27531, '19', ' Private', '472807', ' 1st-4th', 2, ' Never-married', ' Handlers-cleaners', ' Other-relative', ' White', ' Male', 0, 0, 52, ' Mexico', ' <=50K'), (27794, '19', ' Private', '225775', ' Some-college', 10, ' Never-married', ' Craft-repair', ' Not-in-family', ' White', ' Male', 0, 0, 45, ' Mexico', ' <=50K'), (28836, '19', ' Private', '311974', ' HS-grad', 9, ' Never-married', ' Craft-repair', ' Other-relative', ' White', ' Male', 0, 0, 25, ' Mexico', ' <=50K'), (29457, '19', ' Private', '340567', ' 1st-4th', 2, ' Never-married', ' Handlers-cleaners', ' Not-in-family', ' White', ' Male', 0, 0, 55, ' Mexico', ' <=50K'), (29876, '19', ' Private', '311974', ' 1st-4th', 2, ' Never-married', ' Machine-op-inspct', ' Other-relative', ' White', ' Male', 0, 0, 40, ' Mexico', ' <=50K')]\n"
     ]
    }
   ],
   "source": [
    "c.execute('SELECT DISTINCT * FROM users WHERE workclass = \" Private\" AND age < 20 AND race = \" White\" AND native_country=\" Mexico\"')\n",
    "output = c.fetchall()\n",
    "print(output) "
   ]
  },
  {
   "cell_type": "code",
   "execution_count": 33,
   "metadata": {},
   "outputs": [
    {
     "name": "stdout",
     "output_type": "stream",
     "text": [
      "[(378, '46', ' Self-emp-not-inc', '80914', ' Masters', 14, ' Divorced', ' Exec-managerial', ' Not-in-family', ' White', ' Male', 0, 0, 30, ' United-States', ' <=50K'), (569, '47', ' Private', '87490', ' Masters', 14, ' Divorced', ' Exec-managerial', ' Unmarried', ' White', ' Male', 0, 0, 42, ' United-States', ' <=50K'), (996, '45', ' Private', '89325', ' Masters', 14, ' Divorced', ' Prof-specialty', ' Not-in-family', ' White', ' Male', 0, 0, 45, ' United-States', ' <=50K'), (1675, '43', ' Private', '37937', ' Masters', 14, ' Divorced', ' Exec-managerial', ' Unmarried', ' White', ' Male', 0, 0, 50, ' United-States', ' <=50K'), (2186, '47', ' Self-emp-not-inc', '77102', ' Masters', 14, ' Divorced', ' Prof-specialty', ' Not-in-family', ' White', ' Male', 0, 0, 40, ' United-States', ' <=50K'), (3160, '43', ' Local-gov', '247514', ' Masters', 14, ' Divorced', ' Prof-specialty', ' Unmarried', ' White', ' Male', 0, 0, 40, ' United-States', ' <=50K'), (3979, '48', ' Private', '96798', ' Masters', 14, ' Divorced', ' Sales', ' Not-in-family', ' White', ' Male', 0, 0, 35, ' United-States', ' <=50K'), (5283, '40', ' Private', '167265', ' Masters', 14, ' Divorced', ' Prof-specialty', ' Not-in-family', ' White', ' Male', 0, 0, 43, ' United-States', ' <=50K'), (5305, '42', ' Federal-gov', '74680', ' Masters', 14, ' Divorced', ' Adm-clerical', ' Not-in-family', ' White', ' Male', 0, 2001, 60, ' United-States', ' <=50K'), (5648, '45', ' State-gov', '67544', ' Masters', 14, ' Divorced', ' Protective-serv', ' Not-in-family', ' White', ' Male', 0, 0, 50, ' United-States', ' <=50K'), (5926, '42', ' Private', '259643', ' Masters', 14, ' Divorced', ' Prof-specialty', ' Not-in-family', ' White', ' Male', 4650, 0, 40, ' United-States', ' <=50K'), (8185, '37', ' Private', '312271', ' Masters', 14, ' Divorced', ' Exec-managerial', ' Not-in-family', ' White', ' Male', 0, 0, 65, ' United-States', ' <=50K'), (8390, '45', ' Local-gov', '195418', ' Masters', 14, ' Divorced', ' Prof-specialty', ' Not-in-family', ' Black', ' Male', 0, 0, 40, ' United-States', ' <=50K'), (8766, '42', ' Local-gov', '176716', ' Masters', 14, ' Divorced', ' Prof-specialty', ' Not-in-family', ' White', ' Male', 0, 0, 40, ' United-States', ' <=50K'), (11257, '37', ' Private', '372525', ' Masters', 14, ' Divorced', ' Prof-specialty', ' Unmarried', ' White', ' Male', 0, 0, 48, ' United-States', ' <=50K'), (11818, '36', ' State-gov', '108320', ' Masters', 14, ' Divorced', ' Prof-specialty', ' Unmarried', ' White', ' Male', 5455, 0, 30, ' United-States', ' <=50K'), (17228, '41', ' Local-gov', '33068', ' Masters', 14, ' Divorced', ' Prof-specialty', ' Not-in-family', ' White', ' Male', 0, 1974, 40, ' United-States', ' <=50K'), (22434, '45', ' Private', '168262', ' Masters', 14, ' Divorced', ' Prof-specialty', ' Not-in-family', ' White', ' Male', 0, 0, 40, ' United-States', ' <=50K'), (25379, '45', ' State-gov', '127089', ' Masters', 14, ' Divorced', ' Exec-managerial', ' Not-in-family', ' White', ' Male', 0, 0, 45, ' United-States', ' <=50K'), (25520, '48', ' State-gov', '49595', ' Masters', 14, ' Divorced', ' Protective-serv', ' Not-in-family', ' White', ' Male', 0, 0, 72, ' United-States', ' <=50K'), (25878, '45', ' Self-emp-not-inc', '246891', ' Masters', 14, ' Divorced', ' Craft-repair', ' Not-in-family', ' White', ' Male', 0, 0, 40, ' United-States', ' <=50K'), (26219, '42', ' State-gov', '219682', ' Masters', 14, ' Divorced', ' Exec-managerial', ' Not-in-family', ' White', ' Male', 0, 0, 45, ' United-States', ' <=50K'), (29189, '40', ' Private', '56072', ' Masters', 14, ' Divorced', ' Prof-specialty', ' Not-in-family', ' White', ' Male', 0, 0, 20, ' United-States', ' <=50K'), (29537, '46', ' Local-gov', '133969', ' Masters', 14, ' Divorced', ' Prof-specialty', ' Not-in-family', ' Amer-Indian-Eskimo', ' Male', 0, 0, 40, ' United-States', ' <=50K'), (29695, '47', ' Private', '606752', ' Masters', 14, ' Divorced', ' Tech-support', ' Not-in-family', ' White', ' Male', 0, 0, 40, ' United-States', ' <=50K'), (30271, '41', ' State-gov', '100800', ' Masters', 14, ' Divorced', ' Prof-specialty', ' Not-in-family', ' White', ' Male', 0, 0, 35, ' United-States', ' <=50K'), (30374, '42', ' State-gov', '121265', ' Masters', 14, ' Divorced', ' Prof-specialty', ' Not-in-family', ' White', ' Male', 0, 0, 40, ' United-States', ' <=50K')]\n"
     ]
    }
   ],
   "source": [
    "c.execute('SELECT DISTINCT * FROM users WHERE education = \" Masters\" AND age < 50 AND marital_status = \" Divorced\" AND native_country =\" United-States\" AND Sex =\" Male\" AND label =\" <=50K\"')\n",
    "output = c.fetchall()\n",
    "print(output)"
   ]
  },
  {
   "cell_type": "code",
   "execution_count": 35,
   "metadata": {},
   "outputs": [],
   "source": [
    "#c.close()"
   ]
  },
  {
   "cell_type": "markdown",
   "metadata": {},
   "source": [
    "### Write two function queries"
   ]
  },
  {
   "cell_type": "code",
   "execution_count": 34,
   "metadata": {},
   "outputs": [
    {
     "name": "stdout",
     "output_type": "stream",
     "text": [
      "[(44.04186046511628,)]\n"
     ]
    }
   ],
   "source": [
    "def age_check():\n",
    "    \n",
    "    c.execute('SELECT avg(age) FROM users WHERE marital_status=\" Divorced\" AND sex=\" Male\" AND occupation =\" Exec-managerial\" ')\n",
    "    output = c.fetchall()\n",
    "    print(output)\n",
    "    \n",
    "    \n",
    "age_check()"
   ]
  },
  {
   "cell_type": "code",
   "execution_count": 36,
   "metadata": {},
   "outputs": [
    {
     "name": "stdout",
     "output_type": "stream",
     "text": [
      "[(38.07058823529412,)]\n"
     ]
    }
   ],
   "source": [
    "def weekly_hours():\n",
    "   \n",
    "    c.execute('SELECT avg(hours_per_week) FROM users where occupation = \" Handlers-cleaners\" AND sex =\" Male\" AND workclass = \" Private\"')\n",
    "    output = c.fetchall()\n",
    "    print(output)\n",
    "    \n",
    "weekly_hours()"
   ]
  },
  {
   "cell_type": "code",
   "execution_count": null,
   "metadata": {},
   "outputs": [],
   "source": []
  }
 ],
 "metadata": {
  "kernelspec": {
   "display_name": "Python [conda root]",
   "language": "python",
   "name": "conda-root-py"
  },
  "language_info": {
   "codemirror_mode": {
    "name": "ipython",
    "version": 3
   },
   "file_extension": ".py",
   "mimetype": "text/x-python",
   "name": "python",
   "nbconvert_exporter": "python",
   "pygments_lexer": "ipython3",
   "version": "3.6.5"
  }
 },
 "nbformat": 4,
 "nbformat_minor": 2
}
